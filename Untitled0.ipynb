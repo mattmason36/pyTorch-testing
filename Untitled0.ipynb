{
  "nbformat": 4,
  "nbformat_minor": 0,
  "metadata": {
    "colab": {
      "provenance": [],
      "authorship_tag": "ABX9TyNTyjtqkL8UXyNEBR8bs+zs",
      "include_colab_link": true
    },
    "kernelspec": {
      "name": "python3",
      "display_name": "Python 3"
    },
    "language_info": {
      "name": "python"
    }
  },
  "cells": [
    {
      "cell_type": "markdown",
      "metadata": {
        "id": "view-in-github",
        "colab_type": "text"
      },
      "source": [
        "<a href=\"https://colab.research.google.com/github/mattmason36/pyTorch-testing/blob/main/Untitled0.ipynb\" target=\"_parent\"><img src=\"https://colab.research.google.com/assets/colab-badge.svg\" alt=\"Open In Colab\"/></a>"
      ]
    },
    {
      "cell_type": "code",
      "execution_count": 1,
      "metadata": {
        "id": "etwYyzPxfNgE"
      },
      "outputs": [],
      "source": [
        "import torch\n",
        "import numpy as np"
      ]
    },
    {
      "cell_type": "markdown",
      "source": [
        "Lists"
      ],
      "metadata": {
        "id": "USmUzZy4fR9M"
      }
    },
    {
      "cell_type": "code",
      "source": [
        "my_list = [[1,2,3,4,5],[6,7,8,9,10]]\n",
        "my_list"
      ],
      "metadata": {
        "colab": {
          "base_uri": "https://localhost:8080/"
        },
        "id": "LppPcHn6fYEK",
        "outputId": "8c218f43-fa76-4320-98f8-70a03e7ec796"
      },
      "execution_count": 3,
      "outputs": [
        {
          "output_type": "execute_result",
          "data": {
            "text/plain": [
              "[[1, 2, 3, 4, 5], [6, 7, 8, 9, 10]]"
            ]
          },
          "metadata": {},
          "execution_count": 3
        }
      ]
    },
    {
      "cell_type": "markdown",
      "source": [
        "Numpy Arrays"
      ],
      "metadata": {
        "id": "INXsJsPgf7FH"
      }
    },
    {
      "cell_type": "code",
      "source": [
        "np1 = np.random.rand(3,4)\n",
        "np1"
      ],
      "metadata": {
        "colab": {
          "base_uri": "https://localhost:8080/"
        },
        "id": "YAGFQnjJfoYE",
        "outputId": "e5aa4e71-40dc-4314-8068-81b118f704c2"
      },
      "execution_count": 4,
      "outputs": [
        {
          "output_type": "execute_result",
          "data": {
            "text/plain": [
              "array([[0.10531941, 0.15928739, 0.2506775 , 0.50226725],\n",
              "       [0.57504819, 0.18481166, 0.59644667, 0.19324893],\n",
              "       [0.92303091, 0.57740526, 0.86414605, 0.32657712]])"
            ]
          },
          "metadata": {},
          "execution_count": 4
        }
      ]
    },
    {
      "cell_type": "code",
      "source": [
        "np1.dtype"
      ],
      "metadata": {
        "colab": {
          "base_uri": "https://localhost:8080/"
        },
        "id": "t23G0GorgYHE",
        "outputId": "5b2040ec-4346-4253-f4e1-f8ce1545551d"
      },
      "execution_count": 5,
      "outputs": [
        {
          "output_type": "execute_result",
          "data": {
            "text/plain": [
              "dtype('float64')"
            ]
          },
          "metadata": {},
          "execution_count": 5
        }
      ]
    },
    {
      "cell_type": "markdown",
      "source": [
        "Tensors"
      ],
      "metadata": {
        "id": "HoWWfmksgk2F"
      }
    },
    {
      "cell_type": "code",
      "source": [
        "tensor_2d = torch.randn(3,4)\n",
        "tensor_2d\n",
        "#tensor_2d.dtype"
      ],
      "metadata": {
        "colab": {
          "base_uri": "https://localhost:8080/"
        },
        "id": "oRyq_j-Lgi_k",
        "outputId": "ed427c76-ee04-4b00-87ee-c32e3483ce12"
      },
      "execution_count": 10,
      "outputs": [
        {
          "output_type": "execute_result",
          "data": {
            "text/plain": [
              "torch.float32"
            ]
          },
          "metadata": {},
          "execution_count": 10
        }
      ]
    },
    {
      "cell_type": "code",
      "source": [
        "tensor_3d=torch.zeros(2,3,4)\n",
        "tensor_3d"
      ],
      "metadata": {
        "colab": {
          "base_uri": "https://localhost:8080/"
        },
        "id": "uwc84Ke8g308",
        "outputId": "531c75a1-a727-4290-ce6d-73e6d0873c52"
      },
      "execution_count": 7,
      "outputs": [
        {
          "output_type": "execute_result",
          "data": {
            "text/plain": [
              "tensor([[[0., 0., 0., 0.],\n",
              "         [0., 0., 0., 0.],\n",
              "         [0., 0., 0., 0.]],\n",
              "\n",
              "        [[0., 0., 0., 0.],\n",
              "         [0., 0., 0., 0.],\n",
              "         [0., 0., 0., 0.]]])"
            ]
          },
          "metadata": {},
          "execution_count": 7
        }
      ]
    },
    {
      "cell_type": "code",
      "source": [
        "##create tensor out of numpy array\n",
        "my_tensor = torch.tensor (np1)\n",
        "my_tensor"
      ],
      "metadata": {
        "colab": {
          "base_uri": "https://localhost:8080/"
        },
        "id": "Y878dcf1hPrk",
        "outputId": "d0306e65-cbfc-458f-da0d-4fcf90734ccd"
      },
      "execution_count": 8,
      "outputs": [
        {
          "output_type": "execute_result",
          "data": {
            "text/plain": [
              "tensor([[0.1053, 0.1593, 0.2507, 0.5023],\n",
              "        [0.5750, 0.1848, 0.5964, 0.1932],\n",
              "        [0.9230, 0.5774, 0.8641, 0.3266]], dtype=torch.float64)"
            ]
          },
          "metadata": {},
          "execution_count": 8
        }
      ]
    },
    {
      "cell_type": "code",
      "source": [],
      "metadata": {
        "id": "SdoLFmAohpYM"
      },
      "execution_count": null,
      "outputs": []
    }
  ]
}