{
  "nbformat": 4,
  "nbformat_minor": 0,
  "metadata": {
    "colab": {
      "provenance": [],
      "authorship_tag": "ABX9TyNpYW4s4pLwwl28ggdmEEJv",
      "include_colab_link": true
    },
    "kernelspec": {
      "name": "python3",
      "display_name": "Python 3"
    },
    "language_info": {
      "name": "python"
    }
  },
  "cells": [
    {
      "cell_type": "markdown",
      "metadata": {
        "id": "view-in-github",
        "colab_type": "text"
      },
      "source": [
        "<a href=\"https://colab.research.google.com/github/mattmason36/pyTorch-testing/blob/main/CNN.ipynb\" target=\"_parent\"><img src=\"https://colab.research.google.com/assets/colab-badge.svg\" alt=\"Open In Colab\"/></a>"
      ]
    },
    {
      "cell_type": "code",
      "execution_count": 2,
      "metadata": {
        "id": "N2oFfduVqvKQ"
      },
      "outputs": [],
      "source": [
        "import torch\n",
        "import torch.nn as nn\n",
        "import torch.nn.functional as F\n",
        "from torch.utils.data import DataLoader\n",
        "from torchvision import datasets, transforms\n",
        "from torchvision.utils import make_grid\n",
        "\n",
        "import matplotlib.pyplot as plt\n",
        "import numpy as np\n",
        "import pandas as pd\n",
        "from sklearn.metrics import confusion_matrix\n",
        "%matplotlib inline"
      ]
    },
    {
      "cell_type": "code",
      "source": [
        "# Convert MNIST image files into tensor of 4 dimensions (# of images, height,\n",
        "# width, color channel)\n",
        "transform = transforms.ToTensor()"
      ],
      "metadata": {
        "id": "Y3rnc9SWz9Wt"
      },
      "execution_count": 3,
      "outputs": []
    },
    {
      "cell_type": "code",
      "source": [
        "# train data\n",
        "train_data = datasets.MNIST(root='/cnn_data', train = True, download = True, transform = transform)"
      ],
      "metadata": {
        "colab": {
          "base_uri": "https://localhost:8080/"
        },
        "id": "HJtl9g9y0cCm",
        "outputId": "077dc2f3-1c85-4859-e381-bad5ce64484f"
      },
      "execution_count": 4,
      "outputs": [
        {
          "output_type": "stream",
          "name": "stderr",
          "text": [
            "100%|██████████| 9.91M/9.91M [00:01<00:00, 4.97MB/s]\n",
            "100%|██████████| 28.9k/28.9k [00:00<00:00, 160kB/s]\n",
            "100%|██████████| 1.65M/1.65M [00:01<00:00, 1.52MB/s]\n",
            "100%|██████████| 4.54k/4.54k [00:00<00:00, 6.67MB/s]\n"
          ]
        }
      ]
    },
    {
      "cell_type": "code",
      "source": [
        "# Test Data\n",
        "test_data = datasets.MNIST(root='/cnn_data', train = False, download = True, transform = transform)"
      ],
      "metadata": {
        "id": "bP6M773004fr"
      },
      "execution_count": 5,
      "outputs": []
    },
    {
      "cell_type": "code",
      "source": [
        "train_data"
      ],
      "metadata": {
        "colab": {
          "base_uri": "https://localhost:8080/"
        },
        "id": "74UxfD4-1KSt",
        "outputId": "d9a0f1c2-4de3-4445-cd62-32f370faff54"
      },
      "execution_count": 6,
      "outputs": [
        {
          "output_type": "execute_result",
          "data": {
            "text/plain": [
              "Dataset MNIST\n",
              "    Number of datapoints: 60000\n",
              "    Root location: /cnn_data\n",
              "    Split: Train\n",
              "    StandardTransform\n",
              "Transform: ToTensor()"
            ]
          },
          "metadata": {},
          "execution_count": 6
        }
      ]
    },
    {
      "cell_type": "code",
      "source": [
        "test_data"
      ],
      "metadata": {
        "colab": {
          "base_uri": "https://localhost:8080/"
        },
        "id": "owKSWJKA1N2t",
        "outputId": "ad676c3a-ab19-4340-fb47-964785badfb8"
      },
      "execution_count": 7,
      "outputs": [
        {
          "output_type": "execute_result",
          "data": {
            "text/plain": [
              "Dataset MNIST\n",
              "    Number of datapoints: 10000\n",
              "    Root location: /cnn_data\n",
              "    Split: Test\n",
              "    StandardTransform\n",
              "Transform: ToTensor()"
            ]
          },
          "metadata": {},
          "execution_count": 7
        }
      ]
    },
    {
      "cell_type": "code",
      "source": [
        "# Create a small batch size for images....lets say 10\n",
        "train_loader = DataLoader(train_data, batch_size = 10, shuffle = True)\n",
        "test_loader = DataLoader(test_data, batch_size = 10, shuffle = False)"
      ],
      "metadata": {
        "id": "8h6f3Qt12BJR"
      },
      "execution_count": 8,
      "outputs": []
    },
    {
      "cell_type": "code",
      "source": [
        "# Define our CNN Model\n",
        "# Decribe convolutional layer and what it`s doing (2 convolutional layers)\n",
        "# This is just an example in the next video we`ll build out the actual model\n",
        "conv1 = nn.Conv2d(1, 6, 3, 1)\n",
        "conv2 = nn.Conv2d(6, 16, 3, 1)"
      ],
      "metadata": {
        "id": "FTZBjU123AUO"
      },
      "execution_count": 9,
      "outputs": []
    },
    {
      "cell_type": "code",
      "source": [
        "# Grab one MNIST record\n",
        "for i, (X_Train, y_train) in enumerate(train_data):\n",
        "    break"
      ],
      "metadata": {
        "id": "Cf_Ou6Vl3yiN"
      },
      "execution_count": 10,
      "outputs": []
    },
    {
      "cell_type": "code",
      "source": [
        "X_Train.shape"
      ],
      "metadata": {
        "colab": {
          "base_uri": "https://localhost:8080/"
        },
        "id": "foaV5YXa4AAw",
        "outputId": "eba8f568-6f65-48e2-8b06-b9f6771071fb"
      },
      "execution_count": 11,
      "outputs": [
        {
          "output_type": "execute_result",
          "data": {
            "text/plain": [
              "torch.Size([1, 28, 28])"
            ]
          },
          "metadata": {},
          "execution_count": 11
        }
      ]
    },
    {
      "cell_type": "code",
      "source": [
        "x = X_Train.view(1, 1, 28, 28)"
      ],
      "metadata": {
        "id": "dd6cvjzQ4F8i"
      },
      "execution_count": 12,
      "outputs": []
    },
    {
      "cell_type": "code",
      "source": [
        "# Perform our first convolution\n",
        "x = F.relu(conv1(x)) # Recrified Linear Unit for our activation function"
      ],
      "metadata": {
        "id": "55gaoQLR4gDZ"
      },
      "execution_count": 13,
      "outputs": []
    },
    {
      "cell_type": "code",
      "source": [
        "# 1 single image, 6 is the filters we asked for, 26x26\n",
        "x.shape"
      ],
      "metadata": {
        "colab": {
          "base_uri": "https://localhost:8080/"
        },
        "id": "rYDSNywO46xF",
        "outputId": "ab8abcdf-938d-41f4-a77c-46d62db70e80"
      },
      "execution_count": 14,
      "outputs": [
        {
          "output_type": "execute_result",
          "data": {
            "text/plain": [
              "torch.Size([1, 6, 26, 26])"
            ]
          },
          "metadata": {},
          "execution_count": 14
        }
      ]
    },
    {
      "cell_type": "code",
      "source": [
        "# pass thru the pooling layer\n",
        "x= F.max_pool2d(x, 2, 2) # kernel of 2 and stride of 2"
      ],
      "metadata": {
        "id": "S1delcs55Hpb"
      },
      "execution_count": 15,
      "outputs": []
    },
    {
      "cell_type": "code",
      "source": [
        "x.shape # 26/2 = 13"
      ],
      "metadata": {
        "colab": {
          "base_uri": "https://localhost:8080/"
        },
        "id": "BqcxE4eN6A4G",
        "outputId": "5c8c3fb5-c895-4db8-f8aa-11fc48fa04e9"
      },
      "execution_count": 16,
      "outputs": [
        {
          "output_type": "execute_result",
          "data": {
            "text/plain": [
              "torch.Size([1, 6, 13, 13])"
            ]
          },
          "metadata": {},
          "execution_count": 16
        }
      ]
    },
    {
      "cell_type": "code",
      "source": [
        "# Do our second convolutional layer\n",
        "x = F.relu(conv2(x))"
      ],
      "metadata": {
        "id": "T-i2wevl6GEu"
      },
      "execution_count": 17,
      "outputs": []
    },
    {
      "cell_type": "code",
      "source": [],
      "metadata": {
        "id": "cu2gVMXI7N05"
      },
      "execution_count": 17,
      "outputs": []
    },
    {
      "cell_type": "code",
      "source": [
        "x.shape # Agaion we didnt set padding so we loose the 2 pixels of the outline of the image"
      ],
      "metadata": {
        "colab": {
          "base_uri": "https://localhost:8080/"
        },
        "id": "84Td5mGR6ieu",
        "outputId": "6077cfeb-cc91-4923-9898-5da431ed5fa3"
      },
      "execution_count": 18,
      "outputs": [
        {
          "output_type": "execute_result",
          "data": {
            "text/plain": [
              "torch.Size([1, 16, 11, 11])"
            ]
          },
          "metadata": {},
          "execution_count": 18
        }
      ]
    },
    {
      "cell_type": "code",
      "source": [
        "# Pooling layer\n",
        "x = F.max_pool2d(x, 2, 2)"
      ],
      "metadata": {
        "id": "G-R4Oq7b6kDc"
      },
      "execution_count": 19,
      "outputs": []
    },
    {
      "cell_type": "code",
      "source": [
        "x.shape # 11/2 = 5.5 we have to round down, because we can't invent data to round up"
      ],
      "metadata": {
        "colab": {
          "base_uri": "https://localhost:8080/"
        },
        "id": "_hP9c1D06-cF",
        "outputId": "7fe42fc2-7bcf-44ec-bb57-db1ab7400769"
      },
      "execution_count": 20,
      "outputs": [
        {
          "output_type": "execute_result",
          "data": {
            "text/plain": [
              "torch.Size([1, 16, 5, 5])"
            ]
          },
          "metadata": {},
          "execution_count": 20
        }
      ]
    },
    {
      "cell_type": "code",
      "source": [
        "((28-2)/2-2)/2"
      ],
      "metadata": {
        "colab": {
          "base_uri": "https://localhost:8080/"
        },
        "id": "EPbVHy8w7AN8",
        "outputId": "691920ee-701c-402c-b142-35ca83d0f85b"
      },
      "execution_count": 21,
      "outputs": [
        {
          "output_type": "execute_result",
          "data": {
            "text/plain": [
              "5.5"
            ]
          },
          "metadata": {},
          "execution_count": 21
        }
      ]
    },
    {
      "cell_type": "code",
      "source": [
        "# Model class\n",
        "class ConvolutionalNetwork(nn.Module):\n",
        "    def __init__(self):\n",
        "        super().__init__()\n",
        "        self.conv1 = nn.Conv2d(1, 6, 3, 1)\n",
        "        self.conv2 = nn.Conv2d(6, 16, 3, 1)\n",
        "        # Fully connected\n",
        "        self.fc1 = nn.Linear(5*5*16, 120)\n",
        "        self.fc2 = nn.Linear(120, 84)\n",
        "        self.fc3 = nn.Linear(84, 10)\n",
        "\n",
        "    def forward(self, X):\n",
        "        X = F.relu(self.conv1(X))\n",
        "        X = F.max_pool2d(X, 2, 2) # 2x2 kernel and stride 2\n",
        "        # Second pass\n",
        "        X = F.relu(self.conv2(X))\n",
        "        X = F.max_pool2d(X, 2, 2) # 2x2 kernel and stride 2\n",
        "        # Flatten\n",
        "        X = X.view(-1, 16*5*5) # Negative one ss that we can vary the batch size\n",
        "\n",
        "        # Fully connected layers\n",
        "        X = F.relu(self.fc1(X))\n",
        "        X = F.relu(self.fc2(X))\n",
        "        X = self.fc3(X)\n",
        "        return F.log_softmax(X, dim = 1)"
      ],
      "metadata": {
        "id": "KXGX-Xl37oNh"
      },
      "execution_count": 22,
      "outputs": []
    },
    {
      "cell_type": "code",
      "source": [
        "# Create an instance of our model\n",
        "torch.manual_seed(41)\n",
        "model = ConvolutionalNetwork()\n",
        "model"
      ],
      "metadata": {
        "colab": {
          "base_uri": "https://localhost:8080/"
        },
        "id": "iIm_t9-A-BRw",
        "outputId": "70f8ad72-b430-402b-e7d1-bec6bcfa7490"
      },
      "execution_count": 23,
      "outputs": [
        {
          "output_type": "execute_result",
          "data": {
            "text/plain": [
              "ConvolutionalNetwork(\n",
              "  (conv1): Conv2d(1, 6, kernel_size=(3, 3), stride=(1, 1))\n",
              "  (conv2): Conv2d(6, 16, kernel_size=(3, 3), stride=(1, 1))\n",
              "  (fc1): Linear(in_features=400, out_features=120, bias=True)\n",
              "  (fc2): Linear(in_features=120, out_features=84, bias=True)\n",
              "  (fc3): Linear(in_features=84, out_features=10, bias=True)\n",
              ")"
            ]
          },
          "metadata": {},
          "execution_count": 23
        }
      ]
    },
    {
      "cell_type": "code",
      "source": [
        "# Loss function Optimizer\n",
        "criterion = nn.CrossEntropyLoss()\n",
        "optimizer = torch.optim.Adam(model.parameters(), lr = 0.001) # Smaller the learning rate the longer its gonna take to train"
      ],
      "metadata": {
        "id": "4TOGcaYm-NtL"
      },
      "execution_count": 24,
      "outputs": []
    },
    {
      "cell_type": "code",
      "source": [
        "import time\n",
        "start_time = time.time()\n",
        "\n",
        "# Create vaialbles to track tings\n",
        "epochs = 5\n",
        "train_losses = []\n",
        "test_losses = []\n",
        "train_correct = []\n",
        "test_correct = []\n",
        "\n",
        "# For Loop of Epochs\n",
        "for i in range(epochs):\n",
        "    trn_corr = 0\n",
        "    tst_corr = 0\n",
        "\n",
        "\n",
        "    # Train\n",
        "    for b, (X_train, y_train) in enumerate(train_loader):\n",
        "        b+=1 # start our batches at 1\n",
        "        y_pred = model(X_train) # get predicted values from the training set. Not flattened\n",
        "        loss = criterion(y_pred, y_train) # how off are we? Compare the predictions to correct answers in y_train\n",
        "\n",
        "        predicted = torch.max(y_pred.data, 1)[1] # add up the number of correct predictions. Indexed off the first point\n",
        "        batch_corr = (predicted == y_train).sum() # how many we got correct from this batch. True = 1, False = 0, sum those up\n",
        "        trn_corr += batch_corr # keep track as we go along in training\n",
        "\n",
        "        # Update our parameters\n",
        "        optimizer.zero_grad()\n",
        "        loss.backward()\n",
        "        optimizer.step()\n",
        "\n",
        "\n",
        "        # print out some results\n",
        "        if b % 600 == 0:\n",
        "            print(f'epoch: {i} batch: {b} loss: {loss.item()}')\n",
        "\n",
        "    train_losses.append(loss)\n",
        "    train_correct.append(trn_corr)\n",
        "\n",
        "    # Test\n",
        "\n",
        "    with torch.no_grad(): # No gradients so we dont update our weights and biases with data\n",
        "        for b, (X_test, y_test) in enumerate(test_loader):\n",
        "            y_val = model(X_test)\n",
        "            predicted = torch.max(y_val.data, 1)[1] # Add up correct predictions\n",
        "            tst_corr += (predicted == y_test).sum() # T=1, F=0 and sum away\n",
        "\n",
        "    loss = criterion(y_val, y_test)\n",
        "    test_losses.append(loss)\n",
        "    test_correct.append(tst_corr)\n",
        "\n",
        "\n",
        "current_time = time.time()\n",
        "total = current_time - start_time\n",
        "print(f'Training took: {total/60} minutes!')"
      ],
      "metadata": {
        "id": "iUcmPWF8_Y3o",
        "colab": {
          "base_uri": "https://localhost:8080/"
        },
        "outputId": "d0262357-6bb8-4964-eacb-c1ade593fb45"
      },
      "execution_count": 30,
      "outputs": [
        {
          "output_type": "stream",
          "name": "stdout",
          "text": [
            "epoch: 0 batch: 600 loss: 0.0003118058084510267\n",
            "epoch: 0 batch: 1200 loss: 0.001414088299497962\n",
            "epoch: 0 batch: 1800 loss: 0.00021644712251145393\n",
            "epoch: 0 batch: 2400 loss: 0.05918513983488083\n",
            "epoch: 0 batch: 3000 loss: 0.0007876444724388421\n",
            "epoch: 0 batch: 3600 loss: 0.0006503040203824639\n",
            "epoch: 0 batch: 4200 loss: 0.0006699328077957034\n",
            "epoch: 0 batch: 4800 loss: 7.764544716337696e-05\n",
            "epoch: 0 batch: 5400 loss: 0.0006076421122997999\n",
            "epoch: 0 batch: 6000 loss: 0.0015855187084525824\n",
            "epoch: 1 batch: 600 loss: 1.2420893654052634e-05\n",
            "epoch: 1 batch: 1200 loss: 0.10316796600818634\n",
            "epoch: 1 batch: 1800 loss: 0.0004227778990752995\n",
            "epoch: 1 batch: 2400 loss: 6.861152360215783e-05\n",
            "epoch: 1 batch: 3000 loss: 7.363016629824415e-05\n",
            "epoch: 1 batch: 3600 loss: 0.02122342959046364\n",
            "epoch: 1 batch: 4200 loss: 0.009393647313117981\n",
            "epoch: 1 batch: 4800 loss: 5.7252589613199234e-05\n",
            "epoch: 1 batch: 5400 loss: 0.03745017200708389\n",
            "epoch: 1 batch: 6000 loss: 0.9072400331497192\n",
            "epoch: 2 batch: 600 loss: 0.0024692690931260586\n",
            "epoch: 2 batch: 1200 loss: 8.511300620739348e-06\n",
            "epoch: 2 batch: 1800 loss: 0.000980930170044303\n",
            "epoch: 2 batch: 2400 loss: 4.9597427278058603e-05\n",
            "epoch: 2 batch: 3000 loss: 6.048752766218968e-05\n",
            "epoch: 2 batch: 3600 loss: 0.00021627203386742622\n",
            "epoch: 2 batch: 4200 loss: 0.0004276034887880087\n",
            "epoch: 2 batch: 4800 loss: 7.85488446126692e-05\n",
            "epoch: 2 batch: 5400 loss: 0.02319282479584217\n",
            "epoch: 2 batch: 6000 loss: 0.07084590196609497\n",
            "epoch: 3 batch: 600 loss: 3.4484364732634276e-05\n",
            "epoch: 3 batch: 1200 loss: 7.069336425047368e-05\n",
            "epoch: 3 batch: 1800 loss: 0.00013861540355719626\n",
            "epoch: 3 batch: 2400 loss: 0.0010099115315824747\n",
            "epoch: 3 batch: 3000 loss: 0.002637551398947835\n",
            "epoch: 3 batch: 3600 loss: 8.38118139654398e-05\n",
            "epoch: 3 batch: 4200 loss: 0.1137315034866333\n",
            "epoch: 3 batch: 4800 loss: 6.874917016830295e-05\n",
            "epoch: 3 batch: 5400 loss: 0.0011911062756553292\n",
            "epoch: 3 batch: 6000 loss: 7.031103450572118e-05\n",
            "epoch: 4 batch: 600 loss: 0.0011053284397348762\n",
            "epoch: 4 batch: 1200 loss: 2.4437617867079098e-06\n",
            "epoch: 4 batch: 1800 loss: 7.293398084584624e-05\n",
            "epoch: 4 batch: 2400 loss: 0.000455633329693228\n",
            "epoch: 4 batch: 3000 loss: 2.384185471271394e-08\n",
            "epoch: 4 batch: 3600 loss: 0.00016843022604007274\n",
            "epoch: 4 batch: 4200 loss: 6.425240826501977e-06\n",
            "epoch: 4 batch: 4800 loss: 0.001872387481853366\n",
            "epoch: 4 batch: 5400 loss: 1.192092469182171e-07\n",
            "epoch: 4 batch: 6000 loss: 0.00015561041072942317\n",
            "Training took: 3.686657357215881 minutes!\n"
          ]
        }
      ]
    }
  ]
}